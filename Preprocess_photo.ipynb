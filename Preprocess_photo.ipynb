{
 "cells": [
  {
   "cell_type": "code",
   "execution_count": null,
   "id": "c56470c2",
   "metadata": {},
   "outputs": [],
   "source": [
    "\"\"\"\n",
    "Ноутбук поможет собрать и обрaботать сет из фотографий для дообучения модели распознавателя\n",
    "для корректного функционировани нужно создать дополнительные папки:\n",
    "1)папки с фото в которых будут лежать исходные фото. в каждой папке должны лежать фото только одного человека \n",
    "2)общая папка куда будут улетать задетектированые фото\n",
    "3)общая папку куда будут улетать аугментированые фото \n",
    "\n",
    "Функция  get_images_and_labels забирает все из папки с иходными фото, детектирует лицо и сохранет \n",
    "в формате face-'label'-'№'.jpg например ( face-1-1.jpg) така размета заложена в файле с обучением модели\n",
    "\n",
    "Функция augmentation аугментацию фото что повысит качество обучаемой модели\n",
    "\n",
    "Сначала прогоняем сырые фото через  get_images_and_labels,  потом все фото через   augmentation\n",
    "\"\"\""
   ]
  },
  {
   "cell_type": "code",
   "execution_count": 49,
   "id": "c024b0bf",
   "metadata": {},
   "outputs": [],
   "source": [
    "import cv2\n",
    "import os\n",
    "import numpy as np\n",
    "\n",
    "#импортируем детектор лиц\n",
    "detector = cv2.CascadeClassifier(\"haarcascade_frontalface_default.xml\")\n"
   ]
  },
  {
   "cell_type": "code",
   "execution_count": 50,
   "id": "4745791d",
   "metadata": {},
   "outputs": [],
   "source": [
    "def get_images_and_labels(datapath,save_path, counter,label):\n",
    "    \"\"\"\n",
    "    Функция  get_images_and_labels забирает все из папки с иходными фото, детектирует лицо и сохранет \n",
    "    в формате face-'label'-'№'.jpg например ( face-1-1.jpg) така размета заложена в файле с обучением модели\n",
    "    :param label: нужный id пользователя\n",
    "    :param counter: поможет сделать перфикс для фото если нужно добавить новые фотограйии\n",
    "\n",
    "    \"\"\"\n",
    "    \n",
    "    \n",
    "    train_paths = [os.path.join(datapath, f) for f in os.listdir(datapath)]  # получаем путь к трейн сету\n",
    "    \n",
    "    \n",
    "    # перебираем все картинки\n",
    "    for train_path in train_paths:\n",
    "\n",
    "        image = cv2.imread(train_path)  # читаем картинку\n",
    "        image = cv2.cvtColor(image, cv2.COLOR_BGR2GRAY)  # переводим в ч/б\n",
    "\n",
    "        result_frame = detector.detectMultiScale(image,\n",
    "                                                 scaleFactor=1.05,\n",
    "                                                 minNeighbors=6,\n",
    "                                                 minSize=(100, 100),\n",
    "                                                 flags=cv2.CASCADE_SCALE_IMAGE)\n",
    "\n",
    "        for (x, y, w, h) in result_frame:\n",
    "            # добавляем его к списку картинок\n",
    "            cv2.imwrite(save_path + \"/face-\" + str(label) + '.' + str(counter) + \".jpg\", image[y: y + h, x: x + w])\n",
    "            counter += 1\n",
    "        \n",
    "\n",
    "    "
   ]
  },
  {
   "cell_type": "code",
   "execution_count": 3,
   "id": "38c6504d",
   "metadata": {},
   "outputs": [],
   "source": [
    "#пример искользовании функции get_images_and_labels\n",
    "\n",
    "data_path = 'eva'  # путь к датасету с фотографиями пользователей\n",
    "save_path =\"data_set_EVA\"\n",
    "counter = 200\n",
    "label =2\n",
    "get_images_and_labels(data_path,save_path,counter,label)"
   ]
  },
  {
   "cell_type": "code",
   "execution_count": 52,
   "id": "0c158f4e",
   "metadata": {},
   "outputs": [],
   "source": [
    "#пример искользовании функции get_images_and_labels\n",
    "data_path = 'ilya'  # путь к датасету с фотографиями пользователей\n",
    "save_path =\"ilya_train_set\"\n",
    "counter = 300\n",
    "label =1\n",
    "get_images_and_labels(data_path,save_path,counter,label)"
   ]
  },
  {
   "cell_type": "code",
   "execution_count": 53,
   "id": "8f15e6c9",
   "metadata": {},
   "outputs": [],
   "source": [
    "def rotate( img_, angle):\n",
    "    \"\"\"\n",
    "    Функция поворота картинки на определнный угл\n",
    "    :param img_: входящая картинка \n",
    "    :param angle: угол поворота\n",
    "    :return: повернутая картинка\n",
    "    \"\"\"\n",
    "    height, width = img_.shape[:2] #высота и ширина\n",
    "    pivot_point =  (width // 2, height // 2) # точка поворота ( середина)\n",
    "    \n",
    "    mat = cv2.getRotationMatrix2D(pivot_point, angle, scale =1) #матрица поворота\n",
    "    return cv2.warpAffine(img_, mat, (height, width))"
   ]
  },
  {
   "cell_type": "code",
   "execution_count": 54,
   "id": "d64a158c",
   "metadata": {},
   "outputs": [],
   "source": [
    "def augmentation(datapath,save_path):\n",
    "    \"\"\"\n",
    "    Забирает фото из папки и проводит следующие аугментации:\n",
    "    поворот на 15 и 30 градусов, легкое размытие, легкую эрозию\n",
    "    Возвращает в общую папку оригинал фото и аугментированые фото\n",
    "\n",
    "    \"\"\"\n",
    "    kernal = np.ones((3,3), np.uint8)\n",
    "    \n",
    "    set_paths = [os.path.join(datapath, f) for f in os.listdir(datapath)]  # получаем путь к трейн сету\n",
    "    \n",
    "    \n",
    "    # перебираем все картинки\n",
    "    for photo_path in set_paths:\n",
    "        \n",
    "        base_photo_name = os.path.basename(str(photo_path)).split('jpg')[0] #вытащим базовое название фото для добавления номера аугментации\n",
    "\n",
    "        image = cv2.imread(photo_path)  # читаем картинку\n",
    "        image = cv2.cvtColor(image, cv2.COLOR_BGR2GRAY)  # переводим в ч/б\n",
    "        # вернем оригинал\n",
    "        cv2.imwrite(save_path + base_photo_name + '0' + \".jpg\", image) \n",
    "        \n",
    "        # поворот на 15 и 30 гардусов\n",
    "        new_image = rotate(image, 15)\n",
    "        cv2.imwrite(save_path + base_photo_name + '1' + \".jpg\", new_image) \n",
    "        \n",
    "        new_image = rotate(image, 30)\n",
    "        cv2.imwrite(save_path + base_photo_name + '2' + \".jpg\", new_image)\n",
    "        \n",
    "        new_image = rotate(image, -15)\n",
    "        cv2.imwrite(save_path + base_photo_name + '3' + \".jpg\", new_image)\n",
    "        \n",
    "        new_image = rotate(image, -30)\n",
    "        cv2.imwrite(save_path + base_photo_name + '4' + \".jpg\", new_image)\n",
    "        \n",
    "        # размытие\n",
    "        new_image = cv2.GaussianBlur(image, (9,9), 2)\n",
    "        cv2.imwrite(save_path + base_photo_name + '5' + \".jpg\", new_image)\n",
    "        \n",
    "        # эрозия\n",
    "        new_image = cv2.erode(image, kernal, iterations = 1 )\n",
    "        cv2.imwrite(save_path + base_photo_name + '6' + \".jpg\", new_image)\n",
    "        \n",
    "            \n",
    "        \n",
    "        "
   ]
  },
  {
   "cell_type": "code",
   "execution_count": 55,
   "id": "f3e36aa2",
   "metadata": {},
   "outputs": [],
   "source": [
    "#пример искользовании функции augmentation\n",
    "data_path = 'ilya_train_set'\n",
    "save_path =\"data_set_advanced/\"\n",
    "augmentation(data_path,save_path)"
   ]
  },
  {
   "cell_type": "code",
   "execution_count": 37,
   "id": "c7cb5825",
   "metadata": {},
   "outputs": [],
   "source": [
    "#пример искользовании функции augmentation\n",
    "data_path = 'data_set_EVA'\n",
    "save_path =\"test/\"\n",
    "augmentation(data_path,save_path)"
   ]
  }
 ],
 "metadata": {
  "kernelspec": {
   "display_name": "Python 3 (ipykernel)",
   "language": "python",
   "name": "python3"
  },
  "language_info": {
   "codemirror_mode": {
    "name": "ipython",
    "version": 3
   },
   "file_extension": ".py",
   "mimetype": "text/x-python",
   "name": "python",
   "nbconvert_exporter": "python",
   "pygments_lexer": "ipython3",
   "version": "3.9.6"
  }
 },
 "nbformat": 4,
 "nbformat_minor": 5
}
